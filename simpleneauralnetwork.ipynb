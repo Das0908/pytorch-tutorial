{
  "nbformat": 4,
  "nbformat_minor": 0,
  "metadata": {
    "colab": {
      "provenance": [],
      "authorship_tag": "ABX9TyNW8njT/tLuEE6O7/33mG+H",
      "include_colab_link": true
    },
    "kernelspec": {
      "name": "python3",
      "display_name": "Python 3"
    },
    "language_info": {
      "name": "python"
    }
  },
  "cells": [
    {
      "cell_type": "markdown",
      "metadata": {
        "id": "view-in-github",
        "colab_type": "text"
      },
      "source": [
        "<a href=\"https://colab.research.google.com/github/Das0908/pytorch-tutorial/blob/main/simpleneauralnetwork.ipynb\" target=\"_parent\"><img src=\"https://colab.research.google.com/assets/colab-badge.svg\" alt=\"Open In Colab\"/></a>"
      ]
    },
    {
      "cell_type": "code",
      "execution_count": 2,
      "metadata": {
        "id": "gI-e3rjHKn9x"
      },
      "outputs": [],
      "source": [
        "import torch\n",
        "import torch.nn as nn\n",
        "import torch.nn.functional as F"
      ]
    },
    {
      "cell_type": "code",
      "source": [
        "#create a model class that inherits nn.module\n",
        "class Model(nn.Module):\n",
        "  #input layer ->4 features of flower\n",
        "  # h1 layer ->8 neurons\n",
        "  # h2 layer ->9 neurons\n",
        "  # output(3 classes of iris flower )\n",
        "\n",
        "  def __init__(self , in_features=4 ,h1=8,h2=9,out_features=3):\n",
        "    super().__init__() #instantiate the nn module\n",
        "    self.fc1 = nn.Linear(in_features , h1)\n",
        "    self.fc2 = nn.Linear(h1 , h2)\n",
        "    self.out = nn.Linear(h2 , out_features)\n",
        "\n",
        "  def forward(self , x):\n",
        "    x = F.relu(self.fc1(x))\n",
        "    x = F.relu(self.fc2(x))\n",
        "    x = self.out(x)\n",
        "\n",
        "    return x"
      ],
      "metadata": {
        "id": "xYL5AgevMckL"
      },
      "execution_count": 124,
      "outputs": []
    },
    {
      "cell_type": "code",
      "source": [
        "torch.manual_seed(32) #any number , pick a manual seed for randomization\n",
        "model = Model()"
      ],
      "metadata": {
        "id": "RjlFNBNBOG_v"
      },
      "execution_count": 126,
      "outputs": []
    },
    {
      "cell_type": "code",
      "source": [
        "import pandas as pd\n",
        "import matplotlib.pyplot as plt\n",
        "import numpy as np"
      ],
      "metadata": {
        "id": "qogBgaY8O6MV"
      },
      "execution_count": 131,
      "outputs": []
    },
    {
      "cell_type": "code",
      "source": [
        "%matplotlib inline"
      ],
      "metadata": {
        "id": "d9nRRsZcPSWA"
      },
      "execution_count": 132,
      "outputs": []
    },
    {
      "cell_type": "code",
      "source": [
        "url = 'https://gist.githubusercontent.com/curran/a08a1080b88344b0c8a7/raw/0e7a9b0a5d22642a06d3d5b9bcbad9890c8ee534/iris.csv'\n",
        "my_df = pd.read_csv(url)"
      ],
      "metadata": {
        "id": "B7PaQX3QPXtk"
      },
      "execution_count": 133,
      "outputs": []
    },
    {
      "cell_type": "code",
      "source": [
        "my_df.tail()"
      ],
      "metadata": {
        "colab": {
          "base_uri": "https://localhost:8080/",
          "height": 206
        },
        "id": "0whCca1QQFsr",
        "outputId": "f8d2f34c-cfb3-4c02-d82b-d8b949ca3f21"
      },
      "execution_count": 134,
      "outputs": [
        {
          "output_type": "execute_result",
          "data": {
            "text/plain": [
              "     sepal_length  sepal_width  petal_length  petal_width    species\n",
              "145           6.7          3.0           5.2          2.3  virginica\n",
              "146           6.3          2.5           5.0          1.9  virginica\n",
              "147           6.5          3.0           5.2          2.0  virginica\n",
              "148           6.2          3.4           5.4          2.3  virginica\n",
              "149           5.9          3.0           5.1          1.8  virginica"
            ],
            "text/html": [
              "\n",
              "  <div id=\"df-71df71f8-b67a-430a-8185-ba8ed6b89ba1\" class=\"colab-df-container\">\n",
              "    <div>\n",
              "<style scoped>\n",
              "    .dataframe tbody tr th:only-of-type {\n",
              "        vertical-align: middle;\n",
              "    }\n",
              "\n",
              "    .dataframe tbody tr th {\n",
              "        vertical-align: top;\n",
              "    }\n",
              "\n",
              "    .dataframe thead th {\n",
              "        text-align: right;\n",
              "    }\n",
              "</style>\n",
              "<table border=\"1\" class=\"dataframe\">\n",
              "  <thead>\n",
              "    <tr style=\"text-align: right;\">\n",
              "      <th></th>\n",
              "      <th>sepal_length</th>\n",
              "      <th>sepal_width</th>\n",
              "      <th>petal_length</th>\n",
              "      <th>petal_width</th>\n",
              "      <th>species</th>\n",
              "    </tr>\n",
              "  </thead>\n",
              "  <tbody>\n",
              "    <tr>\n",
              "      <th>145</th>\n",
              "      <td>6.7</td>\n",
              "      <td>3.0</td>\n",
              "      <td>5.2</td>\n",
              "      <td>2.3</td>\n",
              "      <td>virginica</td>\n",
              "    </tr>\n",
              "    <tr>\n",
              "      <th>146</th>\n",
              "      <td>6.3</td>\n",
              "      <td>2.5</td>\n",
              "      <td>5.0</td>\n",
              "      <td>1.9</td>\n",
              "      <td>virginica</td>\n",
              "    </tr>\n",
              "    <tr>\n",
              "      <th>147</th>\n",
              "      <td>6.5</td>\n",
              "      <td>3.0</td>\n",
              "      <td>5.2</td>\n",
              "      <td>2.0</td>\n",
              "      <td>virginica</td>\n",
              "    </tr>\n",
              "    <tr>\n",
              "      <th>148</th>\n",
              "      <td>6.2</td>\n",
              "      <td>3.4</td>\n",
              "      <td>5.4</td>\n",
              "      <td>2.3</td>\n",
              "      <td>virginica</td>\n",
              "    </tr>\n",
              "    <tr>\n",
              "      <th>149</th>\n",
              "      <td>5.9</td>\n",
              "      <td>3.0</td>\n",
              "      <td>5.1</td>\n",
              "      <td>1.8</td>\n",
              "      <td>virginica</td>\n",
              "    </tr>\n",
              "  </tbody>\n",
              "</table>\n",
              "</div>\n",
              "    <div class=\"colab-df-buttons\">\n",
              "\n",
              "  <div class=\"colab-df-container\">\n",
              "    <button class=\"colab-df-convert\" onclick=\"convertToInteractive('df-71df71f8-b67a-430a-8185-ba8ed6b89ba1')\"\n",
              "            title=\"Convert this dataframe to an interactive table.\"\n",
              "            style=\"display:none;\">\n",
              "\n",
              "  <svg xmlns=\"http://www.w3.org/2000/svg\" height=\"24px\" viewBox=\"0 -960 960 960\">\n",
              "    <path d=\"M120-120v-720h720v720H120Zm60-500h600v-160H180v160Zm220 220h160v-160H400v160Zm0 220h160v-160H400v160ZM180-400h160v-160H180v160Zm440 0h160v-160H620v160ZM180-180h160v-160H180v160Zm440 0h160v-160H620v160Z\"/>\n",
              "  </svg>\n",
              "    </button>\n",
              "\n",
              "  <style>\n",
              "    .colab-df-container {\n",
              "      display:flex;\n",
              "      gap: 12px;\n",
              "    }\n",
              "\n",
              "    .colab-df-convert {\n",
              "      background-color: #E8F0FE;\n",
              "      border: none;\n",
              "      border-radius: 50%;\n",
              "      cursor: pointer;\n",
              "      display: none;\n",
              "      fill: #1967D2;\n",
              "      height: 32px;\n",
              "      padding: 0 0 0 0;\n",
              "      width: 32px;\n",
              "    }\n",
              "\n",
              "    .colab-df-convert:hover {\n",
              "      background-color: #E2EBFA;\n",
              "      box-shadow: 0px 1px 2px rgba(60, 64, 67, 0.3), 0px 1px 3px 1px rgba(60, 64, 67, 0.15);\n",
              "      fill: #174EA6;\n",
              "    }\n",
              "\n",
              "    .colab-df-buttons div {\n",
              "      margin-bottom: 4px;\n",
              "    }\n",
              "\n",
              "    [theme=dark] .colab-df-convert {\n",
              "      background-color: #3B4455;\n",
              "      fill: #D2E3FC;\n",
              "    }\n",
              "\n",
              "    [theme=dark] .colab-df-convert:hover {\n",
              "      background-color: #434B5C;\n",
              "      box-shadow: 0px 1px 3px 1px rgba(0, 0, 0, 0.15);\n",
              "      filter: drop-shadow(0px 1px 2px rgba(0, 0, 0, 0.3));\n",
              "      fill: #FFFFFF;\n",
              "    }\n",
              "  </style>\n",
              "\n",
              "    <script>\n",
              "      const buttonEl =\n",
              "        document.querySelector('#df-71df71f8-b67a-430a-8185-ba8ed6b89ba1 button.colab-df-convert');\n",
              "      buttonEl.style.display =\n",
              "        google.colab.kernel.accessAllowed ? 'block' : 'none';\n",
              "\n",
              "      async function convertToInteractive(key) {\n",
              "        const element = document.querySelector('#df-71df71f8-b67a-430a-8185-ba8ed6b89ba1');\n",
              "        const dataTable =\n",
              "          await google.colab.kernel.invokeFunction('convertToInteractive',\n",
              "                                                    [key], {});\n",
              "        if (!dataTable) return;\n",
              "\n",
              "        const docLinkHtml = 'Like what you see? Visit the ' +\n",
              "          '<a target=\"_blank\" href=https://colab.research.google.com/notebooks/data_table.ipynb>data table notebook</a>'\n",
              "          + ' to learn more about interactive tables.';\n",
              "        element.innerHTML = '';\n",
              "        dataTable['output_type'] = 'display_data';\n",
              "        await google.colab.output.renderOutput(dataTable, element);\n",
              "        const docLink = document.createElement('div');\n",
              "        docLink.innerHTML = docLinkHtml;\n",
              "        element.appendChild(docLink);\n",
              "      }\n",
              "    </script>\n",
              "  </div>\n",
              "\n",
              "\n",
              "<div id=\"df-2c7e00e4-021c-4685-9256-c9b44ca42b9d\">\n",
              "  <button class=\"colab-df-quickchart\" onclick=\"quickchart('df-2c7e00e4-021c-4685-9256-c9b44ca42b9d')\"\n",
              "            title=\"Suggest charts\"\n",
              "            style=\"display:none;\">\n",
              "\n",
              "<svg xmlns=\"http://www.w3.org/2000/svg\" height=\"24px\"viewBox=\"0 0 24 24\"\n",
              "     width=\"24px\">\n",
              "    <g>\n",
              "        <path d=\"M19 3H5c-1.1 0-2 .9-2 2v14c0 1.1.9 2 2 2h14c1.1 0 2-.9 2-2V5c0-1.1-.9-2-2-2zM9 17H7v-7h2v7zm4 0h-2V7h2v10zm4 0h-2v-4h2v4z\"/>\n",
              "    </g>\n",
              "</svg>\n",
              "  </button>\n",
              "\n",
              "<style>\n",
              "  .colab-df-quickchart {\n",
              "      --bg-color: #E8F0FE;\n",
              "      --fill-color: #1967D2;\n",
              "      --hover-bg-color: #E2EBFA;\n",
              "      --hover-fill-color: #174EA6;\n",
              "      --disabled-fill-color: #AAA;\n",
              "      --disabled-bg-color: #DDD;\n",
              "  }\n",
              "\n",
              "  [theme=dark] .colab-df-quickchart {\n",
              "      --bg-color: #3B4455;\n",
              "      --fill-color: #D2E3FC;\n",
              "      --hover-bg-color: #434B5C;\n",
              "      --hover-fill-color: #FFFFFF;\n",
              "      --disabled-bg-color: #3B4455;\n",
              "      --disabled-fill-color: #666;\n",
              "  }\n",
              "\n",
              "  .colab-df-quickchart {\n",
              "    background-color: var(--bg-color);\n",
              "    border: none;\n",
              "    border-radius: 50%;\n",
              "    cursor: pointer;\n",
              "    display: none;\n",
              "    fill: var(--fill-color);\n",
              "    height: 32px;\n",
              "    padding: 0;\n",
              "    width: 32px;\n",
              "  }\n",
              "\n",
              "  .colab-df-quickchart:hover {\n",
              "    background-color: var(--hover-bg-color);\n",
              "    box-shadow: 0 1px 2px rgba(60, 64, 67, 0.3), 0 1px 3px 1px rgba(60, 64, 67, 0.15);\n",
              "    fill: var(--button-hover-fill-color);\n",
              "  }\n",
              "\n",
              "  .colab-df-quickchart-complete:disabled,\n",
              "  .colab-df-quickchart-complete:disabled:hover {\n",
              "    background-color: var(--disabled-bg-color);\n",
              "    fill: var(--disabled-fill-color);\n",
              "    box-shadow: none;\n",
              "  }\n",
              "\n",
              "  .colab-df-spinner {\n",
              "    border: 2px solid var(--fill-color);\n",
              "    border-color: transparent;\n",
              "    border-bottom-color: var(--fill-color);\n",
              "    animation:\n",
              "      spin 1s steps(1) infinite;\n",
              "  }\n",
              "\n",
              "  @keyframes spin {\n",
              "    0% {\n",
              "      border-color: transparent;\n",
              "      border-bottom-color: var(--fill-color);\n",
              "      border-left-color: var(--fill-color);\n",
              "    }\n",
              "    20% {\n",
              "      border-color: transparent;\n",
              "      border-left-color: var(--fill-color);\n",
              "      border-top-color: var(--fill-color);\n",
              "    }\n",
              "    30% {\n",
              "      border-color: transparent;\n",
              "      border-left-color: var(--fill-color);\n",
              "      border-top-color: var(--fill-color);\n",
              "      border-right-color: var(--fill-color);\n",
              "    }\n",
              "    40% {\n",
              "      border-color: transparent;\n",
              "      border-right-color: var(--fill-color);\n",
              "      border-top-color: var(--fill-color);\n",
              "    }\n",
              "    60% {\n",
              "      border-color: transparent;\n",
              "      border-right-color: var(--fill-color);\n",
              "    }\n",
              "    80% {\n",
              "      border-color: transparent;\n",
              "      border-right-color: var(--fill-color);\n",
              "      border-bottom-color: var(--fill-color);\n",
              "    }\n",
              "    90% {\n",
              "      border-color: transparent;\n",
              "      border-bottom-color: var(--fill-color);\n",
              "    }\n",
              "  }\n",
              "</style>\n",
              "\n",
              "  <script>\n",
              "    async function quickchart(key) {\n",
              "      const quickchartButtonEl =\n",
              "        document.querySelector('#' + key + ' button');\n",
              "      quickchartButtonEl.disabled = true;  // To prevent multiple clicks.\n",
              "      quickchartButtonEl.classList.add('colab-df-spinner');\n",
              "      try {\n",
              "        const charts = await google.colab.kernel.invokeFunction(\n",
              "            'suggestCharts', [key], {});\n",
              "      } catch (error) {\n",
              "        console.error('Error during call to suggestCharts:', error);\n",
              "      }\n",
              "      quickchartButtonEl.classList.remove('colab-df-spinner');\n",
              "      quickchartButtonEl.classList.add('colab-df-quickchart-complete');\n",
              "    }\n",
              "    (() => {\n",
              "      let quickchartButtonEl =\n",
              "        document.querySelector('#df-2c7e00e4-021c-4685-9256-c9b44ca42b9d button');\n",
              "      quickchartButtonEl.style.display =\n",
              "        google.colab.kernel.accessAllowed ? 'block' : 'none';\n",
              "    })();\n",
              "  </script>\n",
              "</div>\n",
              "\n",
              "    </div>\n",
              "  </div>\n"
            ],
            "application/vnd.google.colaboratory.intrinsic+json": {
              "type": "dataframe",
              "summary": "{\n  \"name\": \"my_df\",\n  \"rows\": 5,\n  \"fields\": [\n    {\n      \"column\": \"sepal_length\",\n      \"properties\": {\n        \"dtype\": \"number\",\n        \"std\": 0.30331501776206193,\n        \"min\": 5.9,\n        \"max\": 6.7,\n        \"num_unique_values\": 5,\n        \"samples\": [\n          6.3,\n          5.9,\n          6.5\n        ],\n        \"semantic_type\": \"\",\n        \"description\": \"\"\n      }\n    },\n    {\n      \"column\": \"sepal_width\",\n      \"properties\": {\n        \"dtype\": \"number\",\n        \"std\": 0.31937438845342625,\n        \"min\": 2.5,\n        \"max\": 3.4,\n        \"num_unique_values\": 3,\n        \"samples\": [\n          3.0,\n          2.5,\n          3.4\n        ],\n        \"semantic_type\": \"\",\n        \"description\": \"\"\n      }\n    },\n    {\n      \"column\": \"petal_length\",\n      \"properties\": {\n        \"dtype\": \"number\",\n        \"std\": 0.14832396974191348,\n        \"min\": 5.0,\n        \"max\": 5.4,\n        \"num_unique_values\": 4,\n        \"samples\": [\n          5.0,\n          5.1,\n          5.2\n        ],\n        \"semantic_type\": \"\",\n        \"description\": \"\"\n      }\n    },\n    {\n      \"column\": \"petal_width\",\n      \"properties\": {\n        \"dtype\": \"number\",\n        \"std\": 0.23021728866442667,\n        \"min\": 1.8,\n        \"max\": 2.3,\n        \"num_unique_values\": 4,\n        \"samples\": [\n          1.9,\n          1.8,\n          2.3\n        ],\n        \"semantic_type\": \"\",\n        \"description\": \"\"\n      }\n    },\n    {\n      \"column\": \"species\",\n      \"properties\": {\n        \"dtype\": \"category\",\n        \"num_unique_values\": 1,\n        \"samples\": [\n          \"virginica\"\n        ],\n        \"semantic_type\": \"\",\n        \"description\": \"\"\n      }\n    }\n  ]\n}"
            }
          },
          "metadata": {},
          "execution_count": 134
        }
      ]
    },
    {
      "cell_type": "code",
      "source": [
        "#change last column from string\n",
        "my_df['species'] = my_df['species'].replace('setosa' , 0.0)\n",
        "my_df['species'] = my_df['species'].replace('virginica' , 1.0)\n",
        "my_df['species'] = my_df['species'].replace('versicolor' , 2.0)"
      ],
      "metadata": {
        "id": "KhbtTuE1QJWK"
      },
      "execution_count": 135,
      "outputs": []
    },
    {
      "cell_type": "code",
      "source": [
        "# train , test ,slpit\n",
        "X = my_df.drop('species' , axis=1)\n",
        "y = my_df['species']"
      ],
      "metadata": {
        "id": "Pfs_bJQsRvYN"
      },
      "execution_count": 136,
      "outputs": []
    },
    {
      "cell_type": "code",
      "source": [
        "#convert X and y to numpy arrays\n",
        "X = X.values\n",
        "y = y.values"
      ],
      "metadata": {
        "id": "Lf4u_KCGSP-q"
      },
      "execution_count": 137,
      "outputs": []
    },
    {
      "cell_type": "code",
      "source": [
        "from sklearn.model_selection import train_test_split"
      ],
      "metadata": {
        "id": "Ly7yzuJgSdym"
      },
      "execution_count": 138,
      "outputs": []
    },
    {
      "cell_type": "code",
      "source": [
        "X_train , X_test , y_train , y_test = train_test_split(X , y , train_size=0.2 , random_state = 41)"
      ],
      "metadata": {
        "id": "n_Pyg_WFSpx0"
      },
      "execution_count": 139,
      "outputs": []
    },
    {
      "cell_type": "code",
      "source": [
        "#convert x values to FloatTensors\n",
        "X_train = torch.FloatTensor(X_train)  # ok if not put float\n",
        "X_test = torch.FloatTensor(X_test)"
      ],
      "metadata": {
        "id": "VIyPn9FbTsf_"
      },
      "execution_count": 140,
      "outputs": []
    },
    {
      "cell_type": "code",
      "source": [
        "y_train = torch.tensor(y_train, dtype=torch.long)\n",
        "y_test = torch.tensor(y_test, dtype=torch.long)"
      ],
      "metadata": {
        "id": "GkttmqcKxtQf"
      },
      "execution_count": 141,
      "outputs": []
    },
    {
      "cell_type": "code",
      "source": [
        "y_train"
      ],
      "metadata": {
        "colab": {
          "base_uri": "https://localhost:8080/"
        },
        "id": "0N2hyRd_xSKr",
        "outputId": "15bd8369-a484-4150-9f12-e17f89c86007"
      },
      "execution_count": 142,
      "outputs": [
        {
          "output_type": "execute_result",
          "data": {
            "text/plain": [
              "tensor([0, 1, 0, 0, 2, 1, 0, 1, 0, 2, 1, 2, 0, 1, 0, 2, 0, 1, 2, 2, 1, 2, 2, 1,\n",
              "        1, 0, 2, 2, 2, 1])"
            ]
          },
          "metadata": {},
          "execution_count": 142
        }
      ]
    },
    {
      "cell_type": "code",
      "source": [
        "loss_criteria = nn.CrossEntropyLoss()\n",
        "\n",
        "optimizer = torch.optim.Adam(model.parameters() , lr = 0.01)"
      ],
      "metadata": {
        "id": "4oU0fEvt146P"
      },
      "execution_count": 143,
      "outputs": []
    },
    {
      "cell_type": "code",
      "source": [
        "epochs = 200\n",
        "losses = []\n",
        "\n",
        "for i in range(epochs):\n",
        "  #forward propogation\n",
        "  y_pred = model.forward(X_train)\n",
        "  loss = loss_criteria(y_pred , y_train)\n",
        "\n",
        "  losses.append(loss.detach().numpy())\n",
        "\n",
        "\n",
        "  if i % 10 == 0:\n",
        "    print(f\"epoch : {i} losss : {loss}\")\n",
        "\n",
        "  #back propogation\n",
        "\n",
        "  optimizer.zero_grad()\n",
        "  loss.backward()\n",
        "  optimizer.step()"
      ],
      "metadata": {
        "colab": {
          "base_uri": "https://localhost:8080/"
        },
        "id": "vZH8CNMV3NGM",
        "outputId": "b4bda6ad-372f-4ed3-e871-a64194c77155"
      },
      "execution_count": 144,
      "outputs": [
        {
          "output_type": "stream",
          "name": "stdout",
          "text": [
            "epoch : 0 losss : 1.163001298904419\n",
            "epoch : 10 losss : 0.9124640226364136\n",
            "epoch : 20 losss : 0.7356442809104919\n",
            "epoch : 30 losss : 0.5944188833236694\n",
            "epoch : 40 losss : 0.4667055904865265\n",
            "epoch : 50 losss : 0.3708157539367676\n",
            "epoch : 60 losss : 0.2696658670902252\n",
            "epoch : 70 losss : 0.17226676642894745\n",
            "epoch : 80 losss : 0.0989295095205307\n",
            "epoch : 90 losss : 0.05765318498015404\n",
            "epoch : 100 losss : 0.03618388622999191\n",
            "epoch : 110 losss : 0.024435440078377724\n",
            "epoch : 120 losss : 0.017494820058345795\n",
            "epoch : 130 losss : 0.013141002506017685\n",
            "epoch : 140 losss : 0.010258070193231106\n",
            "epoch : 150 losss : 0.008254907093942165\n",
            "epoch : 160 losss : 0.006806736346334219\n",
            "epoch : 170 losss : 0.005729855969548225\n",
            "epoch : 180 losss : 0.004898636601865292\n",
            "epoch : 190 losss : 0.004243164788931608\n"
          ]
        }
      ]
    },
    {
      "cell_type": "code",
      "source": [
        "plt.plot( range(epochs) , losses )\n",
        "plt.ylabel(\"loss\")\n",
        "plt.xlabel(\"epochs\")"
      ],
      "metadata": {
        "colab": {
          "base_uri": "https://localhost:8080/",
          "height": 466
        },
        "id": "Cebe2zGw5ghF",
        "outputId": "30736e16-ac4f-4c71-d218-07861ecaf4a1"
      },
      "execution_count": 145,
      "outputs": [
        {
          "output_type": "execute_result",
          "data": {
            "text/plain": [
              "Text(0.5, 0, 'epochs')"
            ]
          },
          "metadata": {},
          "execution_count": 145
        },
        {
          "output_type": "display_data",
          "data": {
            "text/plain": [
              "<Figure size 640x480 with 1 Axes>"
            ],
            "image/png": "[encoded data removed]"
          },
          "metadata": {}
        }
      ]
    },
    {
      "cell_type": "code",
      "source": [
        "#evaluate model on test set\n",
        "with torch.no_grad():              #turns off back propogation\n",
        "  y_eval = model.forward(X_test)\n",
        "\n",
        "  loss = loss_criteria(y_eval , y_test)\n"
      ],
      "metadata": {
        "id": "ayiAMRJl79ri"
      },
      "execution_count": 146,
      "outputs": []
    },
    {
      "cell_type": "code",
      "source": [
        "loss"
      ],
      "metadata": {
        "colab": {
          "base_uri": "https://localhost:8080/"
        },
        "id": "5tTWI35B9XTw",
        "outputId": "6c29c9e3-737f-4d9b-e201-3ea04ee64481"
      },
      "execution_count": 147,
      "outputs": [
        {
          "output_type": "execute_result",
          "data": {
            "text/plain": [
              "tensor(0.0916)"
            ]
          },
          "metadata": {},
          "execution_count": 147
        }
      ]
    },
    {
      "cell_type": "code",
      "source": [
        "correct = 0\n",
        "with torch.no_grad():\n",
        "  for i , data in enumerate(X_test):\n",
        "\n",
        "    y_val = model.forward(data)\n",
        "\n",
        "    print(f\"{i+1} ). {str(y_val)} \\t {y_test[i]} \\t {y_val.argmax().item()}\")\n",
        "\n",
        "    #correct or not\n",
        "    if y_val.argmax().item() == y_test[i]:\n",
        "      correct+=1\n",
        "\n",
        "  print(f\"we got - {correct} correct\")\n"
      ],
      "metadata": {
        "colab": {
          "base_uri": "https://localhost:8080/"
        },
        "id": "t8H-FFMN_WBD",
        "outputId": "652d91d6-d3cd-4708-d283-2296e7f9eca8"
      },
      "execution_count": 148,
      "outputs": [
        {
          "output_type": "stream",
          "name": "stdout",
          "text": [
            "1 ). tensor([-6.8897, 10.2127,  2.7952]) \t 1 \t 1\n",
            "2 ). tensor([-8.7330, 14.1630,  1.5638]) \t 1 \t 1\n",
            "3 ). tensor([-9.7735, 15.5219,  2.0853]) \t 1 \t 1\n",
            "4 ). tensor([-2.8182,  0.5181,  6.7584]) \t 2 \t 2\n",
            "5 ). tensor([-7.6469, 11.2801,  3.0266]) \t 1 \t 1\n",
            "6 ). tensor([-1.9968, -0.5435,  6.3347]) \t 2 \t 2\n",
            "7 ). tensor([-5.9433,  7.7318,  3.9969]) \t 1 \t 1\n",
            "8 ). tensor([-2.3212, -0.3385,  6.8125]) \t 2 \t 2\n",
            "9 ). tensor([-6.5220,  8.8942,  3.7199]) \t 1 \t 1\n",
            "10 ). tensor([-8.9196, 14.2345,  1.8849]) \t 1 \t 1\n",
            "11 ). tensor([-5.0952,  5.8722,  4.6035]) \t 1 \t 1\n",
            "12 ). tensor([ 4.5252, -4.4508, -3.5792]) \t 0 \t 0\n",
            "13 ). tensor([ 4.1698, -4.1021, -3.2335]) \t 0 \t 0\n",
            "14 ). tensor([-1.2028, -0.8502,  4.8856]) \t 2 \t 2\n",
            "15 ). tensor([ 3.7358, -3.9524, -2.4158]) \t 0 \t 0\n",
            "16 ). tensor([-5.2078,  5.9580,  4.7810]) \t 1 \t 1\n",
            "17 ). tensor([ 3.9647, -4.0517, -2.8179]) \t 0 \t 0\n",
            "18 ). tensor([-5.9840,  8.0383,  3.6957]) \t 2 \t 1\n",
            "19 ). tensor([ 4.2273, -4.2313, -3.1852]) \t 0 \t 0\n",
            "20 ). tensor([ 3.0573, -3.4060, -1.5849]) \t 0 \t 0\n",
            "21 ). tensor([-1.6613, -0.6553,  5.6967]) \t 2 \t 2\n",
            "22 ). tensor([-8.2750, 12.6557,  2.5666]) \t 1 \t 1\n",
            "23 ). tensor([ 3.9992, -4.0967, -2.8355]) \t 0 \t 0\n",
            "24 ). tensor([ 4.4673, -4.3392, -3.6014]) \t 0 \t 0\n",
            "25 ). tensor([-1.1951, -0.9596,  5.0239]) \t 2 \t 2\n",
            "26 ). tensor([-2.3782, -0.2952,  6.8860]) \t 2 \t 2\n",
            "27 ). tensor([-2.7935,  0.2784,  7.0147]) \t 2 \t 2\n",
            "28 ). tensor([-1.7800, -0.6475,  5.9680]) \t 2 \t 2\n",
            "29 ). tensor([ 4.5017, -4.4142, -3.5758]) \t 0 \t 0\n",
            "30 ). tensor([-3.4300,  1.9568,  6.1905]) \t 2 \t 2\n",
            "31 ). tensor([-0.9948, -1.1057,  4.7570]) \t 2 \t 2\n",
            "32 ). tensor([-3.6170,  2.0995,  6.4111]) \t 2 \t 2\n",
            "33 ). tensor([-5.5886,  8.0633,  2.7215]) \t 1 \t 1\n",
            "34 ). tensor([-3.0156,  1.5010,  5.8737]) \t 2 \t 2\n",
            "35 ). tensor([-7.4687, 10.9791,  3.0006]) \t 1 \t 1\n",
            "36 ). tensor([ 5.7633, -5.3359, -5.2558]) \t 0 \t 0\n",
            "37 ). tensor([-6.7747,  9.1871,  3.8653]) \t 1 \t 1\n",
            "38 ). tensor([-2.4728, -0.3065,  7.1272]) \t 2 \t 2\n",
            "39 ). tensor([-6.9940,  9.6648,  3.7428]) \t 1 \t 1\n",
            "40 ). tensor([-4.2555,  4.0492,  5.1756]) \t 2 \t 2\n",
            "41 ). tensor([-2.3027, -0.3782,  6.8254]) \t 2 \t 2\n",
            "42 ). tensor([-2.9580,  1.1862,  6.1676]) \t 2 \t 2\n",
            "43 ). tensor([ 5.5403, -5.1388, -5.0078]) \t 0 \t 0\n",
            "44 ). tensor([-9.0182, 14.7259,  1.4426]) \t 1 \t 1\n",
            "45 ). tensor([-7.9426, 12.3521,  2.2062]) \t 1 \t 1\n",
            "46 ). tensor([ 4.7405, -4.6922, -3.7454]) \t 0 \t 0\n",
            "47 ). tensor([-9.1127, 14.8047,  1.5905]) \t 1 \t 1\n",
            "48 ). tensor([-0.5629, -1.2602,  3.9511]) \t 2 \t 2\n",
            "49 ). tensor([ 3.9347, -4.0188, -2.7936]) \t 0 \t 0\n",
            "50 ). tensor([-5.2989,  6.3541,  4.4253]) \t 2 \t 1\n",
            "51 ). tensor([-7.4520, 11.1720,  2.7400]) \t 1 \t 1\n",
            "52 ). tensor([-1.8296, -0.6006,  6.0187]) \t 2 \t 2\n",
            "53 ). tensor([-9.1450, 14.2761,  2.3925]) \t 1 \t 1\n",
            "54 ). tensor([ 4.6712, -4.5597, -3.7704]) \t 0 \t 0\n",
            "55 ). tensor([ 5.7114, -5.2819, -5.2098]) \t 0 \t 0\n",
            "56 ). tensor([-5.7808,  7.6276,  3.7733]) \t 1 \t 1\n",
            "57 ). tensor([-5.3725,  6.4697,  4.4162]) \t 1 \t 1\n",
            "58 ). tensor([ 4.0762, -4.0855, -3.0347]) \t 0 \t 0\n",
            "59 ). tensor([-3.0648,  1.5131,  5.9440]) \t 2 \t 2\n",
            "60 ). tensor([ 4.4856, -4.3387, -3.6456]) \t 0 \t 0\n",
            "61 ). tensor([ 4.2273, -4.2313, -3.1852]) \t 0 \t 0\n",
            "62 ). tensor([-2.4682, -0.3381,  7.1615]) \t 2 \t 2\n",
            "63 ). tensor([ 5.2200, -4.9255, -4.5517]) \t 0 \t 0\n",
            "64 ). tensor([-1.0329, -0.9438,  4.6156]) \t 2 \t 2\n",
            "65 ). tensor([-7.0373, 10.3140,  2.9298]) \t 1 \t 1\n",
            "66 ). tensor([ 3.8352, -4.0006, -2.5831]) \t 0 \t 0\n",
            "67 ). tensor([-3.9601,  3.1133,  5.8190]) \t 2 \t 2\n",
            "68 ). tensor([-2.1638, -0.3778,  6.4944]) \t 2 \t 2\n",
            "69 ). tensor([-6.6066,  9.8562,  2.5814]) \t 1 \t 1\n",
            "70 ). tensor([ 4.7882, -4.6128, -3.9727]) \t 0 \t 0\n",
            "71 ). tensor([-2.1519, -0.3908,  6.4847]) \t 2 \t 2\n",
            "72 ). tensor([-1.9837, -0.3614,  6.0425]) \t 2 \t 2\n",
            "73 ). tensor([ 4.0185, -4.1034, -2.8718]) \t 0 \t 0\n",
            "74 ). tensor([-12.7890,  22.4535,  -0.6003]) \t 1 \t 1\n",
            "75 ). tensor([-5.5345,  6.7688,  4.4107]) \t 2 \t 1\n",
            "76 ). tensor([ 4.6536, -4.5248, -3.7786]) \t 0 \t 0\n",
            "77 ). tensor([-6.7413,  9.3718,  3.5974]) \t 1 \t 1\n",
            "78 ). tensor([-7.2081, 10.7208,  2.7891]) \t 1 \t 1\n",
            "79 ). tensor([ 4.4507, -4.2813, -3.6450]) \t 0 \t 0\n",
            "80 ). tensor([-4.8075,  4.7005,  5.5663]) \t 2 \t 2\n",
            "81 ). tensor([ 4.9632, -4.7775, -4.1528]) \t 0 \t 0\n",
            "82 ). tensor([ 4.7706, -4.5779, -3.9809]) \t 0 \t 0\n",
            "83 ). tensor([-7.3612, 10.6459,  3.2484]) \t 1 \t 1\n",
            "84 ). tensor([-8.7604, 13.0144,  3.2336]) \t 1 \t 1\n",
            "85 ). tensor([-7.7975, 12.5935,  1.5597]) \t 1 \t 1\n",
            "86 ). tensor([ 4.3392, -4.2475, -3.4282]) \t 0 \t 0\n",
            "87 ). tensor([ 4.0996, -4.1220, -3.0381]) \t 0 \t 0\n",
            "88 ). tensor([ 4.5197, -4.4315, -3.5938]) \t 0 \t 0\n",
            "89 ). tensor([ 4.3861, -4.3205, -3.4351]) \t 0 \t 0\n",
            "90 ). tensor([ 4.9576, -4.7582, -4.1673]) \t 0 \t 0\n",
            "91 ). tensor([-7.0758, 10.4790,  2.8872]) \t 1 \t 1\n",
            "92 ). tensor([-4.8346,  5.3478,  4.7217]) \t 1 \t 1\n",
            "93 ). tensor([ 4.9328, -4.7623, -4.1023]) \t 0 \t 0\n",
            "94 ). tensor([-7.3423, 10.1652,  3.9057]) \t 1 \t 1\n",
            "95 ). tensor([-2.5970, -0.3343,  7.4626]) \t 2 \t 2\n",
            "96 ). tensor([ 5.6939, -5.2867, -5.1612]) \t 0 \t 0\n",
            "97 ). tensor([ 4.5439, -4.3155, -3.8176]) \t 0 \t 0\n",
            "98 ). tensor([-5.6001,  6.7179,  4.5889]) \t 1 \t 1\n",
            "99 ). tensor([-7.0950, 10.8299,  2.3826]) \t 1 \t 1\n",
            "100 ). tensor([-7.2735, 10.7349,  2.8910]) \t 1 \t 1\n",
            "101 ). tensor([-3.0542,  1.0689,  6.5668]) \t 2 \t 2\n",
            "102 ). tensor([-3.2106,  1.5441,  6.2367]) \t 2 \t 2\n",
            "103 ). tensor([-7.0950, 10.8299,  2.3826]) \t 1 \t 1\n",
            "104 ). tensor([ 4.0748, -4.1261, -2.9731]) \t 0 \t 0\n",
            "105 ). tensor([-2.6366, -0.2519,  7.4385]) \t 2 \t 2\n",
            "106 ). tensor([-8.7306, 13.5543,  2.4053]) \t 1 \t 1\n",
            "107 ). tensor([-2.2991, -0.4122,  6.8656]) \t 2 \t 2\n",
            "108 ). tensor([-3.4277,  1.2831,  7.1085]) \t 2 \t 2\n",
            "109 ). tensor([ 3.9067, -3.9401, -2.8401]) \t 0 \t 0\n",
            "110 ). tensor([-1.7957, -0.6224,  5.9694]) \t 2 \t 2\n",
            "111 ). tensor([ 4.6774, -4.5436, -3.8083]) \t 0 \t 0\n",
            "112 ). tensor([-2.3320, -0.3030,  6.7873]) \t 2 \t 2\n",
            "113 ). tensor([ 4.2725, -4.3326, -3.1475]) \t 0 \t 0\n",
            "114 ). tensor([-2.4040e+00, -2.6573e-03,  6.5179e+00]) \t 2 \t 2\n",
            "115 ). tensor([-9.1365, 14.3045,  2.3507]) \t 1 \t 1\n",
            "116 ). tensor([-9.7484, 16.5689,  0.5549]) \t 1 \t 1\n",
            "117 ). tensor([-8.7330, 13.8969,  1.8934]) \t 1 \t 1\n",
            "118 ). tensor([ 4.9646, -4.7369, -4.2144]) \t 0 \t 0\n",
            "119 ). tensor([ 4.2273, -4.2313, -3.1852]) \t 0 \t 0\n",
            "120 ). tensor([ 5.1435, -4.7889, -4.5654]) \t 0 \t 0\n",
            "we got - 117 correct\n"
          ]
        }
      ]
    },
    {
      "cell_type": "code",
      "source": [
        "model.eval()"
      ],
      "metadata": {
        "colab": {
          "base_uri": "https://localhost:8080/"
        },
        "id": "YhBq366zDsy7",
        "outputId": "f3e5812d-78ad-411c-c14e-81323db3c04e"
      },
      "execution_count": 155,
      "outputs": [
        {
          "output_type": "execute_result",
          "data": {
            "text/plain": [
              "Model(\n",
              "  (fc1): Linear(in_features=4, out_features=8, bias=True)\n",
              "  (fc2): Linear(in_features=8, out_features=9, bias=True)\n",
              "  (out): Linear(in_features=9, out_features=3, bias=True)\n",
              ")"
            ]
          },
          "metadata": {},
          "execution_count": 155
        }
      ]
    },
    {
      "cell_type": "code",
      "source": [
        "new_iris = torch.Tensor([5.9 , 7.0 ,5.1 , 1.8])\n",
        "y = model(new_iris)\n",
        "print(y.argmax().item())"
      ],
      "metadata": {
        "colab": {
          "base_uri": "https://localhost:8080/"
        },
        "id": "k-ciLWTSDQvr",
        "outputId": "6944cfc1-3638-45b6-d989-05909e7e7877"
      },
      "execution_count": 150,
      "outputs": [
        {
          "output_type": "stream",
          "name": "stdout",
          "text": [
            "0\n"
          ]
        }
      ]
    },
    {
      "cell_type": "code",
      "source": [
        "torch.save(model.state_dict(), 'iris_model.pt') # doesnt save the whole model , only its trained weights and biases"
      ],
      "metadata": {
        "id": "saC2qn1FMy7y"
      },
      "execution_count": 156,
      "outputs": []
    },
    {
      "cell_type": "code",
      "source": [
        "new_model = Model()\n",
        "new_model.load_state_dict(torch.load('iris_model.pt'))"
      ],
      "metadata": {
        "colab": {
          "base_uri": "https://localhost:8080/"
        },
        "id": "ikOPq2AGRXQ6",
        "outputId": "0987aa2e-cc84-48cb-d2f8-541225a33427"
      },
      "execution_count": 161,
      "outputs": [
        {
          "output_type": "execute_result",
          "data": {
            "text/plain": [
              "<All keys matched successfully>"
            ]
          },
          "metadata": {},
          "execution_count": 161
        }
      ]
    },
    {
      "cell_type": "code",
      "source": [
        "new_model.eval()"
      ],
      "metadata": {
        "colab": {
          "base_uri": "https://localhost:8080/"
        },
        "id": "z_e9wLOVSur_",
        "outputId": "bb59894f-5d92-4e1a-da0b-a39ad7fdfb58"
      },
      "execution_count": 162,
      "outputs": [
        {
          "output_type": "execute_result",
          "data": {
            "text/plain": [
              "Model(\n",
              "  (fc1): Linear(in_features=4, out_features=8, bias=True)\n",
              "  (fc2): Linear(in_features=8, out_features=9, bias=True)\n",
              "  (out): Linear(in_features=9, out_features=3, bias=True)\n",
              ")"
            ]
          },
          "metadata": {},
          "execution_count": 162
        }
      ]
    },
    {
      "cell_type": "code",
      "source": [
        "# save entire model , not just its weights and biases\n",
        "torch.save(model , 'model1.pth')"
      ],
      "metadata": {
        "id": "jBDQvXjxU-Kq"
      },
      "execution_count": 164,
      "outputs": []
    },
    {
      "cell_type": "code",
      "source": [
        "loaded_model = torch.load('model1.pth')"
      ],
      "metadata": {
        "id": "C_prUF1AVX0t"
      },
      "execution_count": 165,
      "outputs": []
    },
    {
      "cell_type": "code",
      "source": [
        "loaded_model.eval()"
      ],
      "metadata": {
        "colab": {
          "base_uri": "https://localhost:8080/"
        },
        "id": "5KHDMPEyViuM",
        "outputId": "c27832a9-5c69-46eb-974e-7cf195ff5b23"
      },
      "execution_count": 166,
      "outputs": [
        {
          "output_type": "execute_result",
          "data": {
            "text/plain": [
              "Model(\n",
              "  (fc1): Linear(in_features=4, out_features=8, bias=True)\n",
              "  (fc2): Linear(in_features=8, out_features=9, bias=True)\n",
              "  (out): Linear(in_features=9, out_features=3, bias=True)\n",
              ")"
            ]
          },
          "metadata": {},
          "execution_count": 166
        }
      ]
    }
  ]
}